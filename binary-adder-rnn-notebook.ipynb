{
 "cells": [
  {
   "cell_type": "markdown",
   "metadata": {},
   "source": [
    "# RNN Implementation of Binary addition\n",
    "\n",
    "## Contents\n",
    "1. Generate sample data\n",
    "2. Build Tensorflow RNN model\n",
    "3. Train model\n",
    "4. Calculator wrapper\n",
    "\n",
    "Can be configured in 32, 16, and 8-bit modes however since the binary addition operation generalizes perfectly for each time step the bitwidth doesn't make much difference. For the same reason very few training examples are required to train the RNN."
   ]
  },
  {
   "cell_type": "code",
   "execution_count": 1,
   "metadata": {},
   "outputs": [
    {
     "name": "stdout",
     "output_type": "stream",
     "text": [
      "Tensorflow version: 1.1.0\n"
     ]
    }
   ],
   "source": [
    "import tensorflow as tf\n",
    "import numpy as np\n",
    "import math\n",
    "import matplotlib\n",
    "import matplotlib.pyplot as plt\n",
    "import time\n",
    "import logging\n",
    "from IPython import display\n",
    "from tensorflow.contrib.rnn import BasicRNNCell\n",
    "\n",
    "print(\"Tensorflow version: {}\".format(tf.__version__))\n",
    "\n",
    "# Max unsigned integer values\n",
    "max_uint32 = 2 ** 32 - 1\n",
    "max_uint16 = 2 ** 16 - 1\n",
    "max_uint8 = 2 ** 8 - 1\n",
    "\n",
    "# RNN implementation\n",
    "# RNN can be implemented using tensorflow api for RNN or by manually unrolling sequence.\n",
    "use_tf_rnn_api = False\n",
    "\n",
    "# Adder datatype\n",
    "# supports\n",
    "# uint32, uint16 and uint8\n",
    "dtype = \"uint32\"\n",
    "\n",
    "# Hyperparameters\n",
    "learning_rate = 3e-3\n",
    "hidden_neurons = 16\n",
    "\n",
    "# Training data\n",
    "samples = 256\n",
    "train_test_batches_split = 0.5\n",
    "batch_size = 16\n",
    "epochs = 200\n",
    "\n",
    "%matplotlib inline  "
   ]
  },
  {
   "cell_type": "markdown",
   "metadata": {},
   "source": [
    "## 1. Generate Sample data"
   ]
  },
  {
   "cell_type": "code",
   "execution_count": 2,
   "metadata": {
    "collapsed": true
   },
   "outputs": [],
   "source": [
    "class SampleData(object):\n",
    "\n",
    "    def __init__(self, samples, dtype, batch_size, train_test_batches_split):\n",
    "        valid_dtypes = {\"uint8\", \"uint16\", \"uint32\"}\n",
    "        if not dtype in valid_dtypes: raise ValueError(\"input dtype not in valid dtypes\")\n",
    "        if (samples % batch_size != 0): raise ValueError(\"samples must be multiple of batch_size\")\n",
    "        \n",
    "        self.dtype = dtype\n",
    "        \n",
    "        if dtype == \"uint8\":\n",
    "            self.bitwidth = 8\n",
    "        if dtype == \"uint16\":\n",
    "            self.bitwidth = 16\n",
    "        if dtype == \"uint32\":\n",
    "            self.bitwidth = 32\n",
    "        \n",
    "        self.x0_uint, self.x1_uint = self.gen_x(samples, dtype)\n",
    "        self.y_uint = self.calc_y(self.x0_uint, self.x1_uint, dtype)\n",
    "        \n",
    "        self.x0_bits = arr2inbits(self.x0_uint)\n",
    "        self.x1_bits = arr2inbits(self.x1_uint)\n",
    "        self.y_bits = arr2inbits(self.y_uint)\n",
    "        self.x0_samples_bits = np.reshape(self.x0_bits, [samples, self.bitwidth])\n",
    "        self.x1_samples_bits = np.reshape(self.x1_bits, [samples, self.bitwidth])\n",
    "        self.x_samples_bits_dims = np.dstack([self.x0_samples_bits, self.x1_samples_bits])\n",
    "        self.y_samples_bits_dims = np.reshape(self.y_bits, [samples, self.bitwidth, 1])\n",
    "        self.batch_count = int(samples / batch_size)\n",
    "        self.x_all = np.split(self.x_samples_bits_dims, self.batch_count, axis=0)\n",
    "        self.y_all = np.split(self.y_samples_bits_dims, self.batch_count, axis=0)\n",
    "        train_batches = int(train_test_batches_split * self.batch_count)\n",
    "        test_batches = self.batch_count - train_batches\n",
    "        self.x_train = self.x_all[:train_batches - 1]\n",
    "        self.y_train = self.y_all[:train_batches - 1]\n",
    "        self.x_test = self.x_all[train_batches:]\n",
    "        self.y_test = self.y_all[train_batches:]\n",
    "        logging.info(\"Training set size\")\n",
    "        print(\"Training set size:\")\n",
    "        self.print_batch_dims(name=\"x_train\", var=self.x_train)\n",
    "        self.print_batch_dims(name=\"y_train\", var=self.y_train)\n",
    "        print(\"Test set size:\")\n",
    "        self.print_batch_dims(name=\"x_test\", var=self.x_test)\n",
    "        self.print_batch_dims(name=\"y_test\", var=self.y_test)\n",
    "        \n",
    "    def gen_x(self, samples, dtype):\n",
    "        # Would be nice to generate x without replacement however it is too expensive at 32-bit.\n",
    "        x_init_uint8 = lambda : np.reshape(np.random.choice(max_uint8, samples,\n",
    "                                                 replace=True).astype(np.uint8), [samples, 1])\n",
    "        x_init_uint16 = lambda : np.reshape(np.random.choice(max_uint16, samples,\n",
    "                                                 replace=True).astype(np.uint16), [samples, 1])\n",
    "        x_init_uint32 = lambda : np.reshape(np.random.choice(max_uint32, samples,\n",
    "                                                 replace=True).astype(np.uint32), [samples, 1])\n",
    "        if dtype == \"uint8\":\n",
    "            x0_uint = x_init_uint8()\n",
    "            x1_uint = x_init_uint8()\n",
    "            temp_x = np.hstack([x0_uint, x1_uint])\n",
    "        if dtype == \"uint16\":\n",
    "            x0_uint = x_init_uint16()\n",
    "            x1_uint = x_init_uint16()\n",
    "            temp_x = np.hstack([x0_uint, x1_uint])\n",
    "        if dtype == \"uint32\":\n",
    "            x0_uint = x_init_uint32()\n",
    "            x1_uint = x_init_uint32()\n",
    "            temp_x = np.hstack([x0_uint, x1_uint])\n",
    "        return (x0_uint, x1_uint)\n",
    "        \n",
    "    def calc_y(self, x0_uint, x1_uint, dtype):\n",
    "        temp_x = np.hstack([x0_uint, x1_uint])\n",
    "        if dtype == \"uint8\":\n",
    "            y_uint = np.sum(temp_x, axis=1, dtype=np.uint8)\n",
    "        if dtype == \"uint16\":\n",
    "            y_uint = np.sum(temp_x, axis=1, dtype=np.uint16)\n",
    "        if dtype == \"uint32\":\n",
    "            y_uint = np.sum(temp_x, axis=1, dtype=np.uint32)\n",
    "        return y_uint\n",
    "        \n",
    "    def print_batch_dims(self, name, var):\n",
    "        print(name + \" batches : \" + str(len(var)))\n",
    "        print(name + \" batch shape: \" + str(var[0].shape))\n",
    "        \n",
    "        \n",
    "    def print_batch(self, batch_no):\n",
    "        print(self.x[batch_no])"
   ]
  },
  {
   "cell_type": "code",
   "execution_count": 3,
   "metadata": {
    "collapsed": true
   },
   "outputs": [],
   "source": [
    "def arr2inbits(x):\n",
    "    '''\n",
    "    Function for converting Unsigned bitwidth-bit integers to big endian binary representation.\n",
    "    Output is flipped so order is lsb to msb\n",
    "    '''\n",
    "    x_little_end = x.astype(x.dtype.newbyteorder(\"B\"))\n",
    "    x_little_end_uint8 = x_little_end.view(np.uint8)\n",
    "    x_bits = np.unpackbits(x_little_end_uint8)\n",
    "    x_bits_flipped = x_bits[::-1]\n",
    "    return x_bits_flipped\n",
    "def test_arr2inbits():\n",
    "    x_test = np.array([3,5], dtype=\"uint32\")\n",
    "    x_test_bits = arr2inbits(x_test)\n",
    "    assert (x_test_bits == np.array([1,0,1,0,0,0,0,0,0,0,0,0,0,0,0,0,0,0,0,0,0,0,0,0,0,0,0,0,0,0,0,0,1,1,0,0,0\n",
    "                                    ,0,0,0,0,0,0,0,0,0,0,0,0,0,0,0,0,0,0,0,0,0,0,0,0,0,0,0])).all()\n",
    "    x_test = np.array([3,5], dtype=\"uint8\")\n",
    "    x_test_bits = arr2inbits(x_test)\n",
    "    assert (x_test_bits == np.array([1,0,1,0,0,0,0,0,1,1,0,0,0,0,0,0])).all()\n",
    "test_arr2inbits()\n",
    "def bits2arr(x, dtype):\n",
    "    x_bits_flipped = x[::-1]\n",
    "    x_int = np.packbits(x_bits_flipped)\n",
    "    if dtype == \"uint8\":\n",
    "        return x_int\n",
    "    if dtype == \"uint16\":\n",
    "        x_grouped_bytes = np.reshape(x_int, [int(x_int.shape[0] / 2), 2])\n",
    "        multiplier = np.array([2 ** 8, 1])\n",
    "    if dtype == \"uint32\":\n",
    "        x_grouped_bytes = np.reshape(x_int, [int(x_int.shape[0] / 4), 4])\n",
    "        multiplier = np.array([2 ** 24, 2 ** 16, 2 ** 8, 1])\n",
    "    x_weighted_grouped_bytes = multiplier * x_grouped_bytes\n",
    "    x_int_reduced = np.add.reduce(x_weighted_grouped_bytes, axis=1)\n",
    "    return x_int_reduced\n",
    "        \n",
    "def test_bits2arr():\n",
    "    x_test = np.array([1,0,1,0,0,0,0,0,0,0,0,0,0,0,0,0,0,0,0,0,0,0,0,0,0,0,0,0,0,0,0,0,1,1,0,0,0\n",
    "                                    ,0,0,0,0,0,0,0,0,0,0,0,0,0,0,0,0,0,0,0,0,0,0,0,0,0,0,0])\n",
    "    x_test_int = bits2arr(x_test, \"uint32\")\n",
    "    assert(x_test_int == np.array([3,5])).all()\n",
    "    x_test = np.array([0,0,0,0,0,0,0,0,1,0,0,0,0,0,0,0,0,0,0,0,0,0,0,0,0,0,0,0,0,0,0,0])\n",
    "    x_test_int = bits2arr(x_test, \"uint32\")\n",
    "    assert(x_test_int == np.array([256])).all()\n",
    "test_bits2arr()\n"
   ]
  },
  {
   "cell_type": "code",
   "execution_count": 4,
   "metadata": {},
   "outputs": [
    {
     "name": "stdout",
     "output_type": "stream",
     "text": [
      "Training set size:\n",
      "x_train batches : 7\n",
      "x_train batch shape: (16, 32, 2)\n",
      "y_train batches : 7\n",
      "y_train batch shape: (16, 32, 1)\n",
      "Test set size:\n",
      "x_test batches : 8\n",
      "x_test batch shape: (16, 32, 2)\n",
      "y_test batches : 8\n",
      "y_test batch shape: (16, 32, 1)\n"
     ]
    }
   ],
   "source": [
    "train_data = SampleData(samples=samples, \n",
    "                        dtype=dtype, \n",
    "                        batch_size=batch_size, \n",
    "                        train_test_batches_split=train_test_batches_split)"
   ]
  },
  {
   "cell_type": "markdown",
   "metadata": {},
   "source": [
    "## 2. Build Tensorflow RNN Model"
   ]
  },
  {
   "cell_type": "code",
   "execution_count": 5,
   "metadata": {
    "collapsed": true
   },
   "outputs": [],
   "source": [
    "class RnnCell(object):\n",
    "    def __init__(self, hidden_neurons=16, bitwidth=32, use_tf_rnn_api=True):\n",
    "        # Tensorflow placeholders\n",
    "        self.x = tf.placeholder(tf.float32, [None, bitwidth, 2], name=\"x\")\n",
    "        self.y = tf.placeholder(tf.float32 , [None, bitwidth, 1], name=\"y\")\n",
    "        self.initial_state = tf.placeholder(tf.float32 , [None, hidden_neurons], name=\"initial_state\")\n",
    "        \n",
    "        # Extract time series as list \n",
    "        self._x_series = tf.unstack(self.x, axis=1)\n",
    "        self._y_series = tf.unstack(self.y, axis=1)\n",
    "        \n",
    "        # Tensorflow weights and biases\n",
    "        self._weights, self._bias = {}, {}\n",
    "        \n",
    "        # Output layer parameters\n",
    "        self._weights[\"h_o\"] = tf.Variable(tf.random_uniform([hidden_neurons, 1], -0.1, 0.1),dtype=tf.float32, name=\"w_h_o\")\n",
    "        self._bias[\"o\"] = tf.Variable(tf.random_uniform([1], -0.1, 0.1), dtype=tf.float32, name=\"b_o\")\n",
    "        \n",
    "        # Manual static RNN implementation\n",
    "        if not use_tf_rnn_api:\n",
    "            # Input layer parameters\n",
    "            self._weights[\"i_h\"] = tf.Variable(\n",
    "                tf.random_uniform([2, hidden_neurons], -0.1, 0.1), dtype=tf.float32, name=\"w_i_h\")\n",
    "\n",
    "            # Hidden layer parameters \n",
    "            self._weights[\"h_h\"] = tf.Variable(\n",
    "                tf.random_uniform([hidden_neurons, hidden_neurons], -0.1, 0.1), dtype=tf.float32, name=\"w_h_h\")\n",
    "            self._bias[\"h\"] = tf.Variable(\n",
    "                tf.random_uniform([hidden_neurons], -0.1, 0.1), dtype=tf.float32, name=\"b_h\")\n",
    "\n",
    "            h_0 = tf.Variable(np.zeros([1, hidden_neurons]),dtype=tf.float32)\n",
    "            h_0 = self.initial_state\n",
    "            self._h, self._logits_series = [], []\n",
    "            for current_input in self._x_series: \n",
    "                # Hidden layer activation is a function of current_inputs, previous hidden layer and bias. \n",
    "                temp_h_1 = tf.add(tf.matmul(current_input, self._weights[\"i_h\"]), self._bias[\"h\"])\n",
    "                h_1 = tf.nn.relu(tf.add(temp_h_1, tf.matmul(h_0, self._weights[\"h_h\"])))\n",
    "                # Output layer activation is a function of current hidden layer and bias\n",
    "                o_1_logit = tf.add(tf.matmul(h_1, self._weights[\"h_o\"]), self._bias[\"o\"])\n",
    "                # Previous hidden layer activation becomes the current hidden layer activation for\n",
    "                # the next timestep\n",
    "                self._logits_series.append(o_1_logit)\n",
    "                self._h.append(h_1)\n",
    "                h_0 = h_1\n",
    "        \n",
    "        # Tensorflow RNN API.  Can use static_rnn or dynamic_rnn in this case.\n",
    "        else:\n",
    "            cell = BasicRNNCell(hidden_neurons)\n",
    "            states, current_state = tf.nn.dynamic_rnn(cell, self.x, initial_state=self.initial_state)\n",
    "            states_series= tf.unstack(states, axis=1)\n",
    "            self._logits_series= [tf.add(tf.matmul(state, self._weights[\"h_o\"]), self._bias[\"o\"]) \n",
    "                                  for state in states_series]\n",
    "            \n",
    "        self.predictions_series = [tf.sigmoid(logits) for logits in self._logits_series]\n",
    "        predictions_labels = zip(self.predictions_series, self._y_series)\n",
    "        logits_labels = zip(self._logits_series, self._y_series)\n",
    "        self._losses = self.cost_func_logits(logits_labels)\n",
    "        self.total_loss = tf.reduce_mean(self._losses)\n",
    "        self.train_step = tf.train.RMSPropOptimizer(learning_rate).minimize(self.total_loss)\n",
    "    \n",
    "    def cost_func_logits(self, logits_labels):\n",
    "        losses = []\n",
    "        for logits, labels in logits_labels:\n",
    "            losses.append(tf.nn.sigmoid_cross_entropy_with_logits(logits=logits, labels=labels))\n",
    "        return losses"
   ]
  },
  {
   "cell_type": "code",
   "execution_count": 6,
   "metadata": {},
   "outputs": [],
   "source": [
    "my_rnn = RnnCell(hidden_neurons=hidden_neurons, bitwidth=train_data.bitwidth, use_tf_rnn_api=use_tf_rnn_api)"
   ]
  },
  {
   "cell_type": "code",
   "execution_count": 7,
   "metadata": {
    "collapsed": true
   },
   "outputs": [],
   "source": [
    "sess = tf.Session()\n",
    "sess.run(tf.global_variables_initializer())"
   ]
  },
  {
   "cell_type": "markdown",
   "metadata": {},
   "source": [
    "## 3. Train Model"
   ]
  },
  {
   "cell_type": "code",
   "execution_count": 8,
   "metadata": {
    "collapsed": true
   },
   "outputs": [],
   "source": [
    "def train_epoch(sess, rnn, x, y, initial_state):\n",
    "    total_loss_batch = []\n",
    "    predictions_batch = []\n",
    "    _y_series_batch = []\n",
    "    for batch_no in range(len(x)):\n",
    "        predictions, _y_series, total_loss, _ = sess.run(\n",
    "                        [rnn.predictions_series, \n",
    "                         rnn._y_series, \n",
    "                         rnn.total_loss, \n",
    "                         rnn.train_step],\n",
    "                        feed_dict={\n",
    "                            rnn.x: x[batch_no],\n",
    "                            rnn.y: y[batch_no],\n",
    "                            rnn.initial_state: initial_state\n",
    "                        })\n",
    "        total_loss_batch.append(total_loss)\n",
    "        predictions_batch += predictions\n",
    "        _y_series_batch += _y_series\n",
    "    return zip(predictions_batch, _y_series_batch, total_loss_batch)"
   ]
  },
  {
   "cell_type": "code",
   "execution_count": 9,
   "metadata": {
    "collapsed": true
   },
   "outputs": [],
   "source": [
    "def predict_epoch(sess, rnn, x, y, initial_state):\n",
    "    total_loss_batch = []\n",
    "    predictions_batch = []\n",
    "    _y_series_batch = []\n",
    "    for batch_no in range(len(x)):\n",
    "        predictions, _y_series, total_loss = sess.run(\n",
    "                        [rnn.predictions_series, \n",
    "                         rnn._y_series, \n",
    "                         rnn.total_loss],\n",
    "                        feed_dict={\n",
    "                            rnn.x: x[batch_no],\n",
    "                            rnn.y: y[batch_no],\n",
    "                            rnn.initial_state: initial_state\n",
    "                        })\n",
    "        total_loss_batch.append(total_loss)\n",
    "        predictions_batch += predictions\n",
    "        _y_series_batch += _y_series\n",
    "    return zip(predictions_batch, _y_series_batch, total_loss_batch)"
   ]
  },
  {
   "cell_type": "code",
   "execution_count": 10,
   "metadata": {},
   "outputs": [
    {
     "data": {
      "image/png": "[encoded data removed]",
      "text/plain": [
       "<matplotlib.figure.Figure at 0x10fd1ac18>"
      ]
     },
     "metadata": {},
     "output_type": "display_data"
    }
   ],
   "source": [
    "train_total_loss_series_all = []\n",
    "test_total_loss_series_all = []\n",
    "predictions_series_all = []\n",
    "_y_series_series_all = []\n",
    "init_state = np.zeros([batch_size, hidden_neurons])\n",
    "for epoch in range(epochs):\n",
    "    predictions_batch, _y_series_batch, train_total_loss_batch  = zip(*train_epoch(sess=sess, \n",
    "                                                                            rnn=my_rnn, \n",
    "                                                                            x=train_data.x_train, \n",
    "                                                                            y=train_data.y_train,\n",
    "                                                                            initial_state=init_state))\n",
    "    predictions_batch, _y_series_batch, test_total_loss_batch  = zip(*predict_epoch(sess=sess, \n",
    "                                                                            rnn=my_rnn, \n",
    "                                                                            x=train_data.x_test, \n",
    "                                                                            y=train_data.y_test,\n",
    "                                                                            initial_state=init_state))\n",
    "    train_total_loss_series_all.append(np.mean(train_total_loss_batch))\n",
    "    test_total_loss_series_all.append(np.mean(test_total_loss_batch))\n",
    "    plt.plot(range(len(train_total_loss_series_all)), train_total_loss_series_all, \"red\",\n",
    "             range(len(test_total_loss_series_all)), test_total_loss_series_all, \"blue\")\n",
    "    display.display(plt.gcf())\n",
    "    display.clear_output(wait=True)"
   ]
  },
  {
   "cell_type": "markdown",
   "metadata": {},
   "source": [
    "## 4. Calculator Wrapper"
   ]
  },
  {
   "cell_type": "code",
   "execution_count": null,
   "metadata": {
    "collapsed": true
   },
   "outputs": [],
   "source": [
    "class RNNCalc(object):\n",
    "    \n",
    "    \n",
    "    def __init__(self, dtype, rnn):\n",
    "        self.rnn = rnn\n",
    "        if dtype==\"uint8\":\n",
    "            self.max_val = 2 ** 8 - 1\n",
    "            self.dtype = dtype\n",
    "            self.np_dtype = np.uint8\n",
    "        if dtype==\"uint16\":\n",
    "            self.dtype = dtype\n",
    "            self.max_val = 2 ** 16 -1\n",
    "            self.np_dtype = np.uint16\n",
    "        if dtype==\"uint32\":\n",
    "            self.dtype = dtype\n",
    "            self.max_val = 2 ** 32 -1\n",
    "            self.np_dtype = np.uint32\n",
    "        \n",
    "    def _check_input(self, input_str: str):\n",
    "        x_unsafe = input(input_str)\n",
    "        try:\n",
    "            int(x_unsafe)\n",
    "        except:\n",
    "            print(\"Not an integer!\")\n",
    "            return\n",
    "        if int(x_unsafe) < 0: \n",
    "            print(\"Input must not be less than 0\")\n",
    "            return\n",
    "        if int(x_unsafe) > self.max_val: \n",
    "            print(\"Input must not be greater than {}\".format(self.max_val))\n",
    "            return\n",
    "        x_safe = int(x_unsafe)\n",
    "        return x_safe\n",
    "\n",
    "    def run(self):\n",
    "        while True:\n",
    "            x0 = self._check_input(\"Please input x0 in range 0 to {}\".format(self.max_val))\n",
    "            x1 = self._check_input(\"Please input x1 in range 0 to {}\".format(self.max_val))\n",
    "            if x0 is not None and x1 is not None:\n",
    "                x0_bits = arr2inbits(np.array((x0,), dtype=self.np_dtype))\n",
    "                x1_bits = arr2inbits(np.array((x1,), dtype=self.np_dtype))\n",
    "                x = np.dstack([x0_bits, x1_bits])\n",
    "                print(\"x0 int val: {}\".format(x0))\n",
    "                print(\"x0 bin val: {}\".format(x0_bits))\n",
    "                print(\"x0 int val: {}\".format(x1))\n",
    "                print(\"x0 bin val: {}\".format(x1_bits))\n",
    "                predictions= sess.run(\n",
    "                [self.rnn.predictions_series],\n",
    "                feed_dict={\n",
    "                    self.rnn.x: x,\n",
    "                    self.rnn.initial_state: np.zeros([1, hidden_neurons])\n",
    "                })\n",
    "                rounded_predictions = np.around(predictions)\n",
    "                predictions_cleaned = np.reshape(np.array(rounded_predictions[0]), [32]).astype(self.np_dtype)\n",
    "                print(\"y  int val: {} and correct answer is {}\"\n",
    "                      .format(bits2arr(predictions_cleaned, self.dtype)[0], x0 + x1))\n",
    "                print(\"y  bin val: {}\".format(predictions_cleaned))\n",
    "                #DO CALCULATION\n",
    "            user_input = input(\"Do you wish to perform a new calculation? (y/N)\")\n",
    "            if user_input not in \"Yy\" :\n",
    "                break"
   ]
  },
  {
   "cell_type": "code",
   "execution_count": null,
   "metadata": {},
   "outputs": [],
   "source": [
    "my_test_calc = RNNCalc(dtype, my_rnn)\n",
    "my_test_calc.run()"
   ]
  }
 ],
 "metadata": {
  "kernelspec": {
   "display_name": "Python 3",
   "language": "python",
   "name": "python3"
  },
  "language_info": {
   "codemirror_mode": {
    "name": "ipython",
    "version": 3
   },
   "file_extension": ".py",
   "mimetype": "text/x-python",
   "name": "python",
   "nbconvert_exporter": "python",
   "pygments_lexer": "ipython3",
   "version": "3.6.1"
  }
 },
 "nbformat": 4,
 "nbformat_minor": 2
}
